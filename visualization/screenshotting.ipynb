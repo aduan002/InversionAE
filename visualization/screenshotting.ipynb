{
 "cells": [
  {
   "cell_type": "code",
   "execution_count": 41,
   "metadata": {},
   "outputs": [],
   "source": [
    "import os \n",
    "import numpy as np\n",
    "import k3d"
   ]
  },
  {
   "cell_type": "code",
   "execution_count": 42,
   "metadata": {},
   "outputs": [],
   "source": [
    "def obj_data_to_mesh3d(file_path):\n",
    "    vertices = []\n",
    "    faces = []\n",
    "    with open(file_path, \"r\") as file:\n",
    "        for line in file:\n",
    "            slist = line.split()\n",
    "            if slist:\n",
    "                if slist[0] == 'v':\n",
    "                    vertex = np.array(slist[1:], dtype=float)\n",
    "                    vertices.append(vertex)\n",
    "                elif slist[0] == 'f':\n",
    "                    face = []\n",
    "                    for k in range(1, len(slist)):\n",
    "                        face.append([int(s) for s in slist[k].replace('//','/').split('/')])\n",
    "                    if len(face) > 3: # triangulate the n-polyonal face, n>3\n",
    "                        faces.extend([[face[0][0]-1, face[k][0]-1, face[k+1][0]-1] for k in range(1, len(face)-1)])\n",
    "                    else:\n",
    "                        faces.append([face[j][0]-1 for j in range(len(face))])\n",
    "                else: pass\n",
    "\n",
    "\n",
    "    return np.array(vertices), np.array(faces)"
   ]
  },
  {
   "cell_type": "code",
   "execution_count": 43,
   "metadata": {},
   "outputs": [],
   "source": [
    "def get_colors(color_scheme, spacing, w):\n",
    "    colors = []\n",
    "    norm_w = w / 100 #100 # Percent error is a percent, we want decimals.\n",
    "    for v in norm_w:\n",
    "        color = None\n",
    "        for idx in range(len(spacing)):\n",
    "            if v < spacing[idx]:\n",
    "                color = color_scheme[idx]\n",
    "                break\n",
    "        if color is None:\n",
    "            color = color_scheme[len(color_scheme) - 1]\n",
    "\n",
    "        colors.append(color)\n",
    "    return colors"
   ]
  },
  {
   "cell_type": "code",
   "execution_count": 44,
   "metadata": {},
   "outputs": [],
   "source": [
    "input_path  = \"test_seed=0_factor=1.3_dist=20_bound+10_pred_obj/FA3_8L20221001_0401.obj\"\n",
    "save_path = \"screenshot.png\"\n",
    "#color_scheme = [0x00008A, 0xFFD600, 0xFF0000]\n",
    "color_scheme = [0x00008A, 0x00FF00]"
   ]
  },
  {
   "cell_type": "code",
   "execution_count": 45,
   "metadata": {},
   "outputs": [],
   "source": [
    "OFFSET = 1e-6\n",
    "\n",
    "spacing = []\n",
    "space = (1 - OFFSET) / (len(color_scheme) - 1)\n",
    "for idx in range(1, len(color_scheme)):\n",
    "    spacing.append(space * idx + OFFSET)\n",
    "spacing.insert(0, OFFSET)\n",
    "\n",
    "input_dir, filename = os.path.split(input_path)"
   ]
  },
  {
   "cell_type": "code",
   "execution_count": 46,
   "metadata": {},
   "outputs": [],
   "source": [
    "vertices, faces = obj_data_to_mesh3d(os.path.join(input_dir, filename))\n",
    "xyz = vertices[:, :3]\n",
    "w = vertices[:, 3]\n",
    "colors = get_colors(color_scheme=color_scheme, spacing=spacing, w=w)"
   ]
  },
  {
   "cell_type": "code",
   "execution_count": 47,
   "metadata": {},
   "outputs": [
    {
     "data": {
      "application/vnd.jupyter.widget-view+json": {
       "model_id": "25178960e4d84bce890910def2d3c792",
       "version_major": 2,
       "version_minor": 0
      },
      "text/plain": [
       "Output()"
      ]
     },
     "metadata": {},
     "output_type": "display_data"
    }
   ],
   "source": [
    "plot = k3d.plot(grid_visible=False, menu_visibility=False, background_color=0xFFFFFF, camera_mode=\"orbit\")\n",
    "points = k3d.points(xyz.astype(np.float32), point_size=0.3, colors=colors)  # The points only support up to float32\n",
    "plot += points\n",
    "\n",
    "plot.display()\n",
    "plot.camera_auto_fit = False\n",
    "plot.camera = [436660, 3682050, -40] + [436660, 3682050, 80] + [1, 0, 0] # camera position + object position + [up_x, up_y, up_z]\n"
   ]
  },
  {
   "cell_type": "code",
   "execution_count": 50,
   "metadata": {},
   "outputs": [],
   "source": [
    "plot.fetch_screenshot()"
   ]
  },
  {
   "cell_type": "code",
   "execution_count": 51,
   "metadata": {},
   "outputs": [],
   "source": [
    "with open(save_path, 'wb') as f:\n",
    "    try:\n",
    "        out = plot.screenshot.decode('base64')\n",
    "    except: # Python 3\n",
    "        from base64 import b64decode\n",
    "        out = b64decode(plot.screenshot)    \n",
    "    f.write(out)"
   ]
  }
 ],
 "metadata": {
  "kernelspec": {
   "display_name": "PNNLjupyter",
   "language": "python",
   "name": "python3"
  },
  "language_info": {
   "codemirror_mode": {
    "name": "ipython",
    "version": 3
   },
   "file_extension": ".py",
   "mimetype": "text/x-python",
   "name": "python",
   "nbconvert_exporter": "python",
   "pygments_lexer": "ipython3",
   "version": "3.11.3"
  },
  "orig_nbformat": 4
 },
 "nbformat": 4,
 "nbformat_minor": 2
}
